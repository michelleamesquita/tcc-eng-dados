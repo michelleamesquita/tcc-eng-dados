{
 "cells": [
  {
   "cell_type": "code",
   "execution_count": 5,
   "id": "bfaa093b-be4d-4eb9-80d9-57fd8e9a1ec2",
   "metadata": {},
   "outputs": [
    {
     "name": "stdout",
     "output_type": "stream",
     "text": [
      "\u001b[33mDEPRECATION: Configuring installation scheme with distutils config files is deprecated and will no longer work in the near future. If you are using a Homebrew or Linuxbrew Python, please see discussion at https://github.com/Homebrew/homebrew-core/issues/76621\u001b[0m\u001b[33m\n",
      "\u001b[0mCollecting mysql-connector-python\n",
      "  Downloading mysql_connector_python-8.0.30-cp39-cp39-macosx_11_0_x86_64.whl (5.1 MB)\n",
      "\u001b[2K     \u001b[38;2;114;156;31m━━━━━━━━━━━━━━━━━━━━━━━━━━━━━━━━━━━━━━━━\u001b[0m \u001b[32m5.1/5.1 MB\u001b[0m \u001b[31m6.7 MB/s\u001b[0m eta \u001b[36m0:00:00\u001b[0mm eta \u001b[36m0:00:01\u001b[0m\u001b[36m0:00:01\u001b[0m\n",
      "\u001b[?25hCollecting protobuf<=3.20.1,>=3.11.0\n",
      "  Downloading protobuf-3.20.1-cp39-cp39-macosx_10_9_x86_64.whl (962 kB)\n",
      "\u001b[2K     \u001b[38;2;114;156;31m━━━━━━━━━━━━━━━━━━━━━━━━━━━━━━━━━━━━━━━\u001b[0m \u001b[32m962.4/962.4 kB\u001b[0m \u001b[31m8.3 MB/s\u001b[0m eta \u001b[36m0:00:00\u001b[0m31m10.8 MB/s\u001b[0m eta \u001b[36m0:00:01\u001b[0m\n",
      "\u001b[?25hInstalling collected packages: protobuf, mysql-connector-python\n",
      "\u001b[33m  DEPRECATION: Configuring installation scheme with distutils config files is deprecated and will no longer work in the near future. If you are using a Homebrew or Linuxbrew Python, please see discussion at https://github.com/Homebrew/homebrew-core/issues/76621\u001b[0m\u001b[33m\n",
      "\u001b[0m\u001b[33m  DEPRECATION: Configuring installation scheme with distutils config files is deprecated and will no longer work in the near future. If you are using a Homebrew or Linuxbrew Python, please see discussion at https://github.com/Homebrew/homebrew-core/issues/76621\u001b[0m\u001b[33m\n",
      "\u001b[0m\u001b[33mDEPRECATION: Configuring installation scheme with distutils config files is deprecated and will no longer work in the near future. If you are using a Homebrew or Linuxbrew Python, please see discussion at https://github.com/Homebrew/homebrew-core/issues/76621\u001b[0m\u001b[33m\n",
      "\u001b[0mSuccessfully installed mysql-connector-python-8.0.30 protobuf-3.20.1\n",
      "Note: you may need to restart the kernel to use updated packages.\n"
     ]
    }
   ],
   "source": [
    "pip install mysql-connector-python"
   ]
  },
  {
   "cell_type": "code",
   "execution_count": 6,
   "id": "0d212cc4-1e32-4c4c-ba32-a1d132c6205e",
   "metadata": {},
   "outputs": [],
   "source": [
    "import mysql.connector"
   ]
  },
  {
   "cell_type": "code",
   "execution_count": 9,
   "id": "4d9ac4dd-484b-4b84-9063-4eeec61a6e43",
   "metadata": {},
   "outputs": [],
   "source": [
    "mydb = mysql.connector.connect(\n",
    "  host=\"localhost\",\n",
    "  user=\"root\",\n",
    "  password=\"helloworld\",\n",
    "  database=\"mydatabase\",\n",
    "  port=\"3308\"\n",
    ")"
   ]
  },
  {
   "cell_type": "code",
   "execution_count": 10,
   "id": "f88336bb-fb58-4651-aa0b-c44794d5a07c",
   "metadata": {},
   "outputs": [],
   "source": [
    "mycursor = mydb.cursor()"
   ]
  },
  {
   "cell_type": "code",
   "execution_count": 12,
   "id": "7299b339-ac31-4099-8cd0-85ee9ddb0c89",
   "metadata": {},
   "outputs": [],
   "source": [
    "mycursor.execute(\"CREATE TABLE security (\\\n",
    "id_vulnerability int NOT NULL,\\\n",
    "nm_squad VARCHAR(255),\\\n",
    "ds_title VARCHAR(255),\\\n",
    "nm_repository VARCHAR(255),\\\n",
    "in_criticity VARCHAR(255),\\\n",
    "dt_created VARCHAR(255),\\\n",
    "dt_closed VARCHAR(255),\\\n",
    "st_vulnerability VARCHAR(255),\\\n",
    "in_deadline VARCHAR(255),\\\n",
    "ds_url_issue VARCHAR(255),\\\n",
    "nm_source_data VARCHAR(255),\\\n",
    "tool VARCHAR(255),\\\n",
    "cd_month_start VARCHAR(255),\\\n",
    "cd_month_end VARCHAR(255),\\\n",
    "dt_added datetime default current_timestamp,\\\n",
    "CONSTRAINT PK_Person PRIMARY KEY (id_vulnerability,ds_url_issue)\\\n",
    ")\")"
   ]
  },
  {
   "cell_type": "code",
   "execution_count": 13,
   "id": "4419bc5b-463e-4c54-8a95-d676b6f2ffda",
   "metadata": {},
   "outputs": [],
   "source": [
    "mycursor.execute(\"SHOW TABLES\")"
   ]
  },
  {
   "cell_type": "code",
   "execution_count": 14,
   "id": "74f906da-2fb6-41ab-bbc7-bd8ff2c1e9d3",
   "metadata": {},
   "outputs": [
    {
     "name": "stdout",
     "output_type": "stream",
     "text": [
      "('security',)\n"
     ]
    }
   ],
   "source": [
    "for x in mycursor:\n",
    "     print(x)"
   ]
  },
  {
   "cell_type": "code",
   "execution_count": null,
   "id": "61a4b353-cdac-4322-96bb-fcca037ef58a",
   "metadata": {},
   "outputs": [],
   "source": []
  }
 ],
 "metadata": {
  "kernelspec": {
   "display_name": "Python 3 (ipykernel)",
   "language": "python",
   "name": "python3"
  },
  "language_info": {
   "codemirror_mode": {
    "name": "ipython",
    "version": 3
   },
   "file_extension": ".py",
   "mimetype": "text/x-python",
   "name": "python",
   "nbconvert_exporter": "python",
   "pygments_lexer": "ipython3",
   "version": "3.9.12"
  }
 },
 "nbformat": 4,
 "nbformat_minor": 5
}
